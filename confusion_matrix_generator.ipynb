{
 "cells": [
  {
   "cell_type": "code",
   "execution_count": null,
   "metadata": {},
   "outputs": [],
   "source": [
    "import os\n",
    "\n",
    "import numpy as np\n",
    "import matplotlib.image as mpimg\n",
    "import matplotlib.pyplot as plt\n",
    "import tensorflow as tf\n",
    "from tensorflow import keras\n",
    "\n",
    "# Configuration\n",
    "test_folder = 'test_data/'\n",
    "class_labels = ['chevron', 'crosswalk', 'height_limit', 'keep_left', 'no_parking', 'shortcut', 'speed_limit', 'stop']\n",
    "image_height = 180\n",
    "image_width = 180"
   ]
  },
  {
   "cell_type": "code",
   "execution_count": 18,
   "metadata": {},
   "outputs": [],
   "source": [
    "def print_confusion_matrix(result):\n",
    "    for i in range(len(class_labels)):\n",
    "        for j in range(len(class_labels)):\n",
    "            if (result[i][j] == 0): continue\n",
    "            print('Actual [{}], Predict [{}]: {}.'.format(class_labels[i], class_labels[j], result[i][j]))"
   ]
  },
  {
   "cell_type": "code",
   "execution_count": 13,
   "metadata": {},
   "outputs": [],
   "source": [
    "import os\n",
    "    \n",
    "def generate_confusion_matrix(model):\n",
    "    startPath = test_folder\n",
    "\n",
    "    result = list()\n",
    "\n",
    "    for i in range(len(class_labels)):\n",
    "        result.append(list())\n",
    "        for j in range(len(class_labels)):\n",
    "            result[i].append(0)\n",
    "\n",
    "    for filename in os.listdir(startPath):\n",
    "        if filename.endswith(\".jpg\") or filename.endswith(\".png\"): \n",
    "            img = os.path.join(startPath, filename)\n",
    "\n",
    "            img = tf.keras.preprocessing.image.load_img(\n",
    "              img, target_size=(image_width, image_height)\n",
    "            )\n",
    "            img_array = tf.keras.preprocessing.image.img_to_array(img)\n",
    "            img_array = tf.expand_dims(img_array, 0)\n",
    "\n",
    "            predictions = model.predict(img_array)\n",
    "            score = tf.nn.softmax(predictions[0])\n",
    "\n",
    "            actual_class = filename.split('-')[0]\n",
    "            predicted_class = class_labels[np.argmax(score)]\n",
    "\n",
    "            result[class_labels.index(actual_class)][class_labels.index(predicted_class)] += 1\n",
    "\n",
    "        else:\n",
    "            continue\n",
    "\n",
    "    print('done')\n",
    "    return result"
   ]
  },
  {
   "cell_type": "markdown",
   "metadata": {},
   "source": [
    "# Model with uncropped image"
   ]
  },
  {
   "cell_type": "code",
   "execution_count": 21,
   "metadata": {},
   "outputs": [
    {
     "name": "stdout",
     "output_type": "stream",
     "text": [
      "done\n",
      "Actual [chevron], Predict [stop]: 5.\n",
      "Actual [crosswalk], Predict [height_limit]: 4.\n",
      "Actual [crosswalk], Predict [shortcut]: 1.\n",
      "Actual [height_limit], Predict [height_limit]: 5.\n",
      "Actual [keep_left], Predict [height_limit]: 5.\n",
      "Actual [no_parking], Predict [chevron]: 1.\n",
      "Actual [no_parking], Predict [height_limit]: 2.\n",
      "Actual [no_parking], Predict [no_parking]: 2.\n",
      "Actual [shortcut], Predict [speed_limit]: 5.\n",
      "Actual [speed_limit], Predict [height_limit]: 4.\n",
      "Actual [speed_limit], Predict [stop]: 1.\n",
      "Actual [stop], Predict [shortcut]: 1.\n",
      "Actual [stop], Predict [speed_limit]: 2.\n",
      "Actual [stop], Predict [stop]: 2.\n"
     ]
    }
   ],
   "source": [
    "model = tf.keras.models.load_model('model.h5')\n",
    "result = generate_confusion_matrix(model)\n",
    "print_confusion_matrix(result)"
   ]
  },
  {
   "cell_type": "markdown",
   "metadata": {},
   "source": [
    "# Model with cropped image"
   ]
  },
  {
   "cell_type": "code",
   "execution_count": 22,
   "metadata": {},
   "outputs": [
    {
     "name": "stdout",
     "output_type": "stream",
     "text": [
      "done\n",
      "Actual [chevron], Predict [chevron]: 5.\n",
      "Actual [crosswalk], Predict [crosswalk]: 5.\n",
      "Actual [height_limit], Predict [height_limit]: 5.\n",
      "Actual [keep_left], Predict [keep_left]: 5.\n",
      "Actual [no_parking], Predict [no_parking]: 5.\n",
      "Actual [shortcut], Predict [shortcut]: 5.\n",
      "Actual [speed_limit], Predict [speed_limit]: 5.\n",
      "Actual [stop], Predict [stop]: 5.\n"
     ]
    }
   ],
   "source": [
    "model = tf.keras.models.load_model('model_cropped_data.h5')\n",
    "result = generate_confusion_matrix(model)\n",
    "print_confusion_matrix(result)"
   ]
  }
 ],
 "metadata": {
  "environment": {
   "name": "tf2-2-2-gpu.2-2.m50",
   "type": "gcloud",
   "uri": "gcr.io/deeplearning-platform-release/tf2-2-2-gpu.2-2:m50"
  },
  "kernelspec": {
   "display_name": "Python 3",
   "language": "python",
   "name": "python3"
  },
  "language_info": {
   "codemirror_mode": {
    "name": "ipython",
    "version": 3
   },
   "file_extension": ".py",
   "mimetype": "text/x-python",
   "name": "python",
   "nbconvert_exporter": "python",
   "pygments_lexer": "ipython3",
   "version": "3.7.6"
  }
 },
 "nbformat": 4,
 "nbformat_minor": 4
}
